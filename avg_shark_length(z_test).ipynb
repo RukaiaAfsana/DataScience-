{
  "nbformat": 4,
  "nbformat_minor": 0,
  "metadata": {
    "colab": {
      "name": "avg_shark_length(z_test).ipynb",
      "provenance": [],
      "mount_file_id": "1Ox3l4nVWp28r0odvvBXOxz6dZfn32RUN",
      "authorship_tag": "ABX9TyN/cZ62uGiH8v5oNA3Q18tH",
      "include_colab_link": true
    },
    "kernelspec": {
      "name": "python3",
      "display_name": "Python 3"
    },
    "language_info": {
      "name": "python"
    }
  },
  "cells": [
    {
      "cell_type": "markdown",
      "metadata": {
        "id": "view-in-github",
        "colab_type": "text"
      },
      "source": [
        "<a href=\"https://colab.research.google.com/github/RukaiaAfsana/DataScience-/blob/main/avg_shark_length(z_test).ipynb\" target=\"_parent\"><img src=\"https://colab.research.google.com/assets/colab-badge.svg\" alt=\"Open In Colab\"/></a>"
      ]
    },
    {
      "cell_type": "code",
      "execution_count": null,
      "metadata": {
        "id": "y_FSsGcd-8jm"
      },
      "outputs": [],
      "source": [
        "import numpy as np\n",
        "import pandas as pd\n",
        "import matplotlib.pyplot as plt\n",
        "import seaborn as sns\n",
        "from statsmodels.stats.weightstats import ztest as ztest\n",
        "\n",
        "%matplotlib inline"
      ]
    },
    {
      "cell_type": "code",
      "source": [
        "df = pd.read_table('shark_size.txt',header = 0, names=['name', 'length', 'mass'])\n",
        "df = pd.DataFrame(df)\n",
        "df"
      ],
      "metadata": {
        "colab": {
          "base_uri": "https://localhost:8080/",
          "height": 708
        },
        "id": "e7Fc9LX6_Ch8",
        "outputId": "0707850f-f88f-4d03-8b3c-cf6caa39ccd9"
      },
      "execution_count": null,
      "outputs": [
        {
          "output_type": "execute_result",
          "data": {
            "text/plain": [
              "                       name                length                     mass\n",
              "0             Basking shark        33 feet (10 m)       4 tons (14,500 kg)\n",
              "1       Blacktip Reef shark      5.2 feet (1.6 m)      30 pounds (13.6 kg)\n",
              "2                Blue shark     12.5 feet (3.8 m)      450 pounds (200 kg)\n",
              "3                Bull shark     11.5 feet (3.5 m)      290 pounds (130 kg)\n",
              "4           Galapagos shark       12 feet (3.7 m)     188 pounds (85.5 kg)\n",
              "5         Dwarf lanternfish  7 1/2 inches (19 cm)            0.5 oz (14 g)\n",
              "6              Goblin shark       11 feet (3.6 m)      460 pounds (210 kg)\n",
              "7    Great Hammerhead shark       20 feet (6.1 m)      500 pounds (230 kg)\n",
              "8         Great White Shark         23 feet (7 m)  5,000 pounds (2,270 kg)\n",
              "9               Lemon shark         10 feet (3 m)      400 pounds (183 kg)\n",
              "10               Mako shark    8 feet (1.5-2.5 m)    1,750 pounds (800 kg)\n",
              "11          Megamouth shark       18 feet (5.5 m)   2,680 pounds (1215 kg)\n",
              "12              Nurse shark         13 feet (4 m)      730 pounds (330 kg)\n",
              "13       Pacific Angelshark        5 feet (1.5 m)        60 pounds (27 kg)\n",
              "14  Short-finned Mako shark       12 feet (3.7 m)     1000 pounds (450 kg)\n",
              "15      Spiny Dogfish shark        4 feet (1.2 m)       10 pounds (4.5 kg)\n",
              "16       Spined Pygmy shark     11 inches (28 cm)                      NaN\n",
              "17           Thresher shark       20 feet (6.1 m)    1,100 pounds (500 kg)\n",
              "18              Tiger shark     14 feet (3-4.2 m)    1,400 pounds (635 kg)\n",
              "19      Whitetip reef shark      5.2 feet (1.6 m)      40 pounds (18.3 kg)\n",
              "20              Whale shark        46 feet (14 m)      15 tons (21,000 kg)"
            ],
            "text/html": [
              "\n",
              "  <div id=\"df-a16d6871-584a-4053-8aa4-325e9df0ab62\">\n",
              "    <div class=\"colab-df-container\">\n",
              "      <div>\n",
              "<style scoped>\n",
              "    .dataframe tbody tr th:only-of-type {\n",
              "        vertical-align: middle;\n",
              "    }\n",
              "\n",
              "    .dataframe tbody tr th {\n",
              "        vertical-align: top;\n",
              "    }\n",
              "\n",
              "    .dataframe thead th {\n",
              "        text-align: right;\n",
              "    }\n",
              "</style>\n",
              "<table border=\"1\" class=\"dataframe\">\n",
              "  <thead>\n",
              "    <tr style=\"text-align: right;\">\n",
              "      <th></th>\n",
              "      <th>name</th>\n",
              "      <th>length</th>\n",
              "      <th>mass</th>\n",
              "    </tr>\n",
              "  </thead>\n",
              "  <tbody>\n",
              "    <tr>\n",
              "      <th>0</th>\n",
              "      <td>Basking shark</td>\n",
              "      <td>33 feet (10 m)</td>\n",
              "      <td>4 tons (14,500 kg)</td>\n",
              "    </tr>\n",
              "    <tr>\n",
              "      <th>1</th>\n",
              "      <td>Blacktip Reef shark</td>\n",
              "      <td>5.2 feet (1.6 m)</td>\n",
              "      <td>30 pounds (13.6 kg)</td>\n",
              "    </tr>\n",
              "    <tr>\n",
              "      <th>2</th>\n",
              "      <td>Blue shark</td>\n",
              "      <td>12.5 feet (3.8 m)</td>\n",
              "      <td>450 pounds (200 kg)</td>\n",
              "    </tr>\n",
              "    <tr>\n",
              "      <th>3</th>\n",
              "      <td>Bull shark</td>\n",
              "      <td>11.5 feet (3.5 m)</td>\n",
              "      <td>290 pounds (130 kg)</td>\n",
              "    </tr>\n",
              "    <tr>\n",
              "      <th>4</th>\n",
              "      <td>Galapagos shark</td>\n",
              "      <td>12 feet (3.7 m)</td>\n",
              "      <td>188 pounds (85.5 kg)</td>\n",
              "    </tr>\n",
              "    <tr>\n",
              "      <th>5</th>\n",
              "      <td>Dwarf lanternfish</td>\n",
              "      <td>7 1/2 inches (19 cm)</td>\n",
              "      <td>0.5 oz (14 g)</td>\n",
              "    </tr>\n",
              "    <tr>\n",
              "      <th>6</th>\n",
              "      <td>Goblin shark</td>\n",
              "      <td>11 feet (3.6 m)</td>\n",
              "      <td>460 pounds (210 kg)</td>\n",
              "    </tr>\n",
              "    <tr>\n",
              "      <th>7</th>\n",
              "      <td>Great Hammerhead shark</td>\n",
              "      <td>20 feet (6.1 m)</td>\n",
              "      <td>500 pounds (230 kg)</td>\n",
              "    </tr>\n",
              "    <tr>\n",
              "      <th>8</th>\n",
              "      <td>Great White Shark</td>\n",
              "      <td>23 feet (7 m)</td>\n",
              "      <td>5,000 pounds (2,270 kg)</td>\n",
              "    </tr>\n",
              "    <tr>\n",
              "      <th>9</th>\n",
              "      <td>Lemon shark</td>\n",
              "      <td>10 feet (3 m)</td>\n",
              "      <td>400 pounds (183 kg)</td>\n",
              "    </tr>\n",
              "    <tr>\n",
              "      <th>10</th>\n",
              "      <td>Mako shark</td>\n",
              "      <td>8 feet (1.5-2.5 m)</td>\n",
              "      <td>1,750 pounds (800 kg)</td>\n",
              "    </tr>\n",
              "    <tr>\n",
              "      <th>11</th>\n",
              "      <td>Megamouth shark</td>\n",
              "      <td>18 feet (5.5 m)</td>\n",
              "      <td>2,680 pounds (1215 kg)</td>\n",
              "    </tr>\n",
              "    <tr>\n",
              "      <th>12</th>\n",
              "      <td>Nurse shark</td>\n",
              "      <td>13 feet (4 m)</td>\n",
              "      <td>730 pounds (330 kg)</td>\n",
              "    </tr>\n",
              "    <tr>\n",
              "      <th>13</th>\n",
              "      <td>Pacific Angelshark</td>\n",
              "      <td>5 feet (1.5 m)</td>\n",
              "      <td>60 pounds (27 kg)</td>\n",
              "    </tr>\n",
              "    <tr>\n",
              "      <th>14</th>\n",
              "      <td>Short-finned Mako shark</td>\n",
              "      <td>12 feet (3.7 m)</td>\n",
              "      <td>1000 pounds (450 kg)</td>\n",
              "    </tr>\n",
              "    <tr>\n",
              "      <th>15</th>\n",
              "      <td>Spiny Dogfish shark</td>\n",
              "      <td>4 feet (1.2 m)</td>\n",
              "      <td>10 pounds (4.5 kg)</td>\n",
              "    </tr>\n",
              "    <tr>\n",
              "      <th>16</th>\n",
              "      <td>Spined Pygmy shark</td>\n",
              "      <td>11 inches (28 cm)</td>\n",
              "      <td>NaN</td>\n",
              "    </tr>\n",
              "    <tr>\n",
              "      <th>17</th>\n",
              "      <td>Thresher shark</td>\n",
              "      <td>20 feet (6.1 m)</td>\n",
              "      <td>1,100 pounds (500 kg)</td>\n",
              "    </tr>\n",
              "    <tr>\n",
              "      <th>18</th>\n",
              "      <td>Tiger shark</td>\n",
              "      <td>14 feet (3-4.2 m)</td>\n",
              "      <td>1,400 pounds (635 kg)</td>\n",
              "    </tr>\n",
              "    <tr>\n",
              "      <th>19</th>\n",
              "      <td>Whitetip reef shark</td>\n",
              "      <td>5.2 feet (1.6 m)</td>\n",
              "      <td>40 pounds (18.3 kg)</td>\n",
              "    </tr>\n",
              "    <tr>\n",
              "      <th>20</th>\n",
              "      <td>Whale shark</td>\n",
              "      <td>46 feet (14 m)</td>\n",
              "      <td>15 tons (21,000 kg)</td>\n",
              "    </tr>\n",
              "  </tbody>\n",
              "</table>\n",
              "</div>\n",
              "      <button class=\"colab-df-convert\" onclick=\"convertToInteractive('df-a16d6871-584a-4053-8aa4-325e9df0ab62')\"\n",
              "              title=\"Convert this dataframe to an interactive table.\"\n",
              "              style=\"display:none;\">\n",
              "        \n",
              "  <svg xmlns=\"http://www.w3.org/2000/svg\" height=\"24px\"viewBox=\"0 0 24 24\"\n",
              "       width=\"24px\">\n",
              "    <path d=\"M0 0h24v24H0V0z\" fill=\"none\"/>\n",
              "    <path d=\"M18.56 5.44l.94 2.06.94-2.06 2.06-.94-2.06-.94-.94-2.06-.94 2.06-2.06.94zm-11 1L8.5 8.5l.94-2.06 2.06-.94-2.06-.94L8.5 2.5l-.94 2.06-2.06.94zm10 10l.94 2.06.94-2.06 2.06-.94-2.06-.94-.94-2.06-.94 2.06-2.06.94z\"/><path d=\"M17.41 7.96l-1.37-1.37c-.4-.4-.92-.59-1.43-.59-.52 0-1.04.2-1.43.59L10.3 9.45l-7.72 7.72c-.78.78-.78 2.05 0 2.83L4 21.41c.39.39.9.59 1.41.59.51 0 1.02-.2 1.41-.59l7.78-7.78 2.81-2.81c.8-.78.8-2.07 0-2.86zM5.41 20L4 18.59l7.72-7.72 1.47 1.35L5.41 20z\"/>\n",
              "  </svg>\n",
              "      </button>\n",
              "      \n",
              "  <style>\n",
              "    .colab-df-container {\n",
              "      display:flex;\n",
              "      flex-wrap:wrap;\n",
              "      gap: 12px;\n",
              "    }\n",
              "\n",
              "    .colab-df-convert {\n",
              "      background-color: #E8F0FE;\n",
              "      border: none;\n",
              "      border-radius: 50%;\n",
              "      cursor: pointer;\n",
              "      display: none;\n",
              "      fill: #1967D2;\n",
              "      height: 32px;\n",
              "      padding: 0 0 0 0;\n",
              "      width: 32px;\n",
              "    }\n",
              "\n",
              "    .colab-df-convert:hover {\n",
              "      background-color: #E2EBFA;\n",
              "      box-shadow: 0px 1px 2px rgba(60, 64, 67, 0.3), 0px 1px 3px 1px rgba(60, 64, 67, 0.15);\n",
              "      fill: #174EA6;\n",
              "    }\n",
              "\n",
              "    [theme=dark] .colab-df-convert {\n",
              "      background-color: #3B4455;\n",
              "      fill: #D2E3FC;\n",
              "    }\n",
              "\n",
              "    [theme=dark] .colab-df-convert:hover {\n",
              "      background-color: #434B5C;\n",
              "      box-shadow: 0px 1px 3px 1px rgba(0, 0, 0, 0.15);\n",
              "      filter: drop-shadow(0px 1px 2px rgba(0, 0, 0, 0.3));\n",
              "      fill: #FFFFFF;\n",
              "    }\n",
              "  </style>\n",
              "\n",
              "      <script>\n",
              "        const buttonEl =\n",
              "          document.querySelector('#df-a16d6871-584a-4053-8aa4-325e9df0ab62 button.colab-df-convert');\n",
              "        buttonEl.style.display =\n",
              "          google.colab.kernel.accessAllowed ? 'block' : 'none';\n",
              "\n",
              "        async function convertToInteractive(key) {\n",
              "          const element = document.querySelector('#df-a16d6871-584a-4053-8aa4-325e9df0ab62');\n",
              "          const dataTable =\n",
              "            await google.colab.kernel.invokeFunction('convertToInteractive',\n",
              "                                                     [key], {});\n",
              "          if (!dataTable) return;\n",
              "\n",
              "          const docLinkHtml = 'Like what you see? Visit the ' +\n",
              "            '<a target=\"_blank\" href=https://colab.research.google.com/notebooks/data_table.ipynb>data table notebook</a>'\n",
              "            + ' to learn more about interactive tables.';\n",
              "          element.innerHTML = '';\n",
              "          dataTable['output_type'] = 'display_data';\n",
              "          await google.colab.output.renderOutput(dataTable, element);\n",
              "          const docLink = document.createElement('div');\n",
              "          docLink.innerHTML = docLinkHtml;\n",
              "          element.appendChild(docLink);\n",
              "        }\n",
              "      </script>\n",
              "    </div>\n",
              "  </div>\n",
              "  "
            ]
          },
          "metadata": {},
          "execution_count": 7
        }
      ]
    },
    {
      "cell_type": "code",
      "source": [
        "a = df['length'].str.split(expand=True)\n",
        "df['length']=a[0]"
      ],
      "metadata": {
        "id": "GaV5kuNS_ZjM"
      },
      "execution_count": null,
      "outputs": []
    },
    {
      "cell_type": "code",
      "source": [
        "df.info()"
      ],
      "metadata": {
        "colab": {
          "base_uri": "https://localhost:8080/"
        },
        "id": "fJZaewnR_d6S",
        "outputId": "fa294b60-dcb2-4409-cc6b-a9b1e2ed2a4d"
      },
      "execution_count": null,
      "outputs": [
        {
          "output_type": "stream",
          "name": "stdout",
          "text": [
            "<class 'pandas.core.frame.DataFrame'>\n",
            "RangeIndex: 21 entries, 0 to 20\n",
            "Data columns (total 3 columns):\n",
            " #   Column  Non-Null Count  Dtype \n",
            "---  ------  --------------  ----- \n",
            " 0   name    21 non-null     object\n",
            " 1   length  21 non-null     object\n",
            " 2   mass    20 non-null     object\n",
            "dtypes: object(3)\n",
            "memory usage: 632.0+ bytes\n"
          ]
        }
      ]
    },
    {
      "cell_type": "code",
      "source": [
        "df['length']=pd.to_numeric(df['length'],errors = 'coerce')"
      ],
      "metadata": {
        "id": "IDv8f66x_g3u"
      },
      "execution_count": null,
      "outputs": []
    },
    {
      "cell_type": "code",
      "source": [
        "length = df['length']"
      ],
      "metadata": {
        "id": "mepWeD4n_jie"
      },
      "execution_count": null,
      "outputs": []
    },
    {
      "cell_type": "code",
      "source": [
        "std = np.std(length)\n",
        "mean = np.mean(length)"
      ],
      "metadata": {
        "id": "GgozU3yY_mcZ"
      },
      "execution_count": null,
      "outputs": []
    },
    {
      "cell_type": "code",
      "source": [
        "sns.histplot(df['length'],kde=True)"
      ],
      "metadata": {
        "colab": {
          "base_uri": "https://localhost:8080/",
          "height": 296
        },
        "id": "HAq-LXUp_pd8",
        "outputId": "7844d89c-651b-4c47-f8ab-f7585254e038"
      },
      "execution_count": null,
      "outputs": [
        {
          "output_type": "execute_result",
          "data": {
            "text/plain": [
              "<matplotlib.axes._subplots.AxesSubplot at 0x7f8db4336e10>"
            ]
          },
          "metadata": {},
          "execution_count": 13
        },
        {
          "output_type": "display_data",
          "data": {
            "text/plain": [
              "<Figure size 432x288 with 1 Axes>"
            ],
            "image/png": "[encoded data removed]"
          },
          "metadata": {
            "needs_background": "light"
          }
        }
      ]
    },
    {
      "cell_type": "markdown",
      "source": [
        "##Z_TEST \n",
        "###  defining Confidential interval \n",
        "\n",
        "  CI = point estimator +- margin of error \n",
        "    = mean +- Z(alpha/2)*(std/root(sample_size))"
      ],
      "metadata": {
        "id": "mmySco2W_tJ8"
      }
    },
    {
      "cell_type": "code",
      "source": [
        "alpha = 0.05 "
      ],
      "metadata": {
        "id": "h2C4vxjM_wAa"
      },
      "execution_count": null,
      "outputs": []
    },
    {
      "cell_type": "code",
      "source": [
        "len(df['length'])"
      ],
      "metadata": {
        "colab": {
          "base_uri": "https://localhost:8080/"
        },
        "id": "ro0exEv4A4dm",
        "outputId": "aaf82199-eb84-427e-e604-a06daf9e157b"
      },
      "execution_count": null,
      "outputs": [
        {
          "output_type": "execute_result",
          "data": {
            "text/plain": [
              "21"
            ]
          },
          "metadata": {},
          "execution_count": 15
        }
      ]
    },
    {
      "cell_type": "code",
      "source": [
        ""
      ],
      "metadata": {
        "id": "Ide-bncZA_5I"
      },
      "execution_count": null,
      "outputs": []
    }
  ]
}