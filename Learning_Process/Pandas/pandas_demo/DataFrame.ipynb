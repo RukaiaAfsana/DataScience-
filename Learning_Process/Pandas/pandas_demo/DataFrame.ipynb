{
 "cells": [
  {
   "cell_type": "markdown",
   "id": "816e71f5",
   "metadata": {},
   "source": [
    "# DataFrame"
   ]
  },
  {
   "cell_type": "code",
   "execution_count": 3,
   "id": "2adc3a13",
   "metadata": {},
   "outputs": [],
   "source": [
    "import pandas as pd "
   ]
  },
  {
   "cell_type": "markdown",
   "id": "b46bc900",
   "metadata": {},
   "source": [
    "### A dictionary"
   ]
  },
  {
   "cell_type": "code",
   "execution_count": 5,
   "id": "e1839509",
   "metadata": {},
   "outputs": [
    {
     "name": "stdout",
     "output_type": "stream",
     "text": [
      "{'name': ['afsana', 'rabeya', 'rukaia'], 'email': ['1@', '2@', '3@'], 'address': [123, 234, 345]}\n"
     ]
    }
   ],
   "source": [
    "people = {\n",
    "    \"name\" : [\"afsana\",\"rabeya\",\"rukaia\"],\n",
    "    \"email\":[\"1@\",\"2@\",\"3@\"],\n",
    "    \"address\":[123,234,345]\n",
    "}\n",
    "\n",
    "print(people)"
   ]
  },
  {
   "cell_type": "code",
   "execution_count": 6,
   "id": "e4a1d627",
   "metadata": {},
   "outputs": [
    {
     "data": {
      "text/plain": [
       "dict"
      ]
     },
     "execution_count": 6,
     "metadata": {},
     "output_type": "execute_result"
    }
   ],
   "source": [
    "type(people)"
   ]
  },
  {
   "cell_type": "markdown",
   "id": "5d3fdb34",
   "metadata": {},
   "source": [
    "### creating a DataFrame from a dictionay \n",
    "df = pd.DataFrame(people)\n",
    "df"
   ]
  },
  {
   "cell_type": "markdown",
   "id": "a74637ad",
   "metadata": {},
   "source": [
    "### get the columns name \n",
    "df.columns"
   ]
  },
  {
   "cell_type": "code",
   "execution_count": 9,
   "id": "07d5d14e",
   "metadata": {},
   "outputs": [
    {
     "data": {
      "text/plain": [
       "0    afsana\n",
       "1    rabeya\n",
       "2    rukaia\n",
       "Name: name, dtype: object"
      ]
     },
     "execution_count": 9,
     "metadata": {},
     "output_type": "execute_result"
    }
   ],
   "source": [
    "df[\"name\"]"
   ]
  },
  {
   "cell_type": "markdown",
   "id": "dfb4b8f5",
   "metadata": {},
   "source": [
    "### series \n",
    "type(df[\"name\"])"
   ]
  },
  {
   "cell_type": "code",
   "execution_count": 11,
   "id": "a498e2a9",
   "metadata": {},
   "outputs": [
    {
     "data": {
      "text/html": [
       "<div>\n",
       "<style scoped>\n",
       "    .dataframe tbody tr th:only-of-type {\n",
       "        vertical-align: middle;\n",
       "    }\n",
       "\n",
       "    .dataframe tbody tr th {\n",
       "        vertical-align: top;\n",
       "    }\n",
       "\n",
       "    .dataframe thead th {\n",
       "        text-align: right;\n",
       "    }\n",
       "</style>\n",
       "<table border=\"1\" class=\"dataframe\">\n",
       "  <thead>\n",
       "    <tr style=\"text-align: right;\">\n",
       "      <th></th>\n",
       "      <th>name</th>\n",
       "      <th>email</th>\n",
       "    </tr>\n",
       "  </thead>\n",
       "  <tbody>\n",
       "    <tr>\n",
       "      <th>0</th>\n",
       "      <td>afsana</td>\n",
       "      <td>1@</td>\n",
       "    </tr>\n",
       "    <tr>\n",
       "      <th>1</th>\n",
       "      <td>rabeya</td>\n",
       "      <td>2@</td>\n",
       "    </tr>\n",
       "    <tr>\n",
       "      <th>2</th>\n",
       "      <td>rukaia</td>\n",
       "      <td>3@</td>\n",
       "    </tr>\n",
       "  </tbody>\n",
       "</table>\n",
       "</div>"
      ],
      "text/plain": [
       "     name email\n",
       "0  afsana    1@\n",
       "1  rabeya    2@\n",
       "2  rukaia    3@"
      ]
     },
     "execution_count": 11,
     "metadata": {},
     "output_type": "execute_result"
    }
   ],
   "source": [
    "df[[\"name\",\"email\"]]"
   ]
  },
  {
   "cell_type": "markdown",
   "id": "11aefb76",
   "metadata": {},
   "source": [
    "Accessing and shaping a dataframe by loc and iloc "
   ]
  },
  {
   "cell_type": "markdown",
   "id": "c9a26d3d",
   "metadata": {},
   "source": [
    "### dataFrames column access"
   ]
  },
  {
   "cell_type": "code",
   "execution_count": 13,
   "id": "46a0b74e",
   "metadata": {},
   "outputs": [
    {
     "data": {
      "text/plain": [
       "0    afsana\n",
       "1    rabeya\n",
       "2    rukaia\n",
       "Name: name, dtype: object"
      ]
     },
     "execution_count": 13,
     "metadata": {},
     "output_type": "execute_result"
    }
   ],
   "source": [
    "df[\"name\"]"
   ]
  },
  {
   "cell_type": "code",
   "execution_count": 14,
   "id": "546a1fce",
   "metadata": {},
   "outputs": [
    {
     "data": {
      "text/html": [
       "<div>\n",
       "<style scoped>\n",
       "    .dataframe tbody tr th:only-of-type {\n",
       "        vertical-align: middle;\n",
       "    }\n",
       "\n",
       "    .dataframe tbody tr th {\n",
       "        vertical-align: top;\n",
       "    }\n",
       "\n",
       "    .dataframe thead th {\n",
       "        text-align: right;\n",
       "    }\n",
       "</style>\n",
       "<table border=\"1\" class=\"dataframe\">\n",
       "  <thead>\n",
       "    <tr style=\"text-align: right;\">\n",
       "      <th></th>\n",
       "      <th>name</th>\n",
       "      <th>address</th>\n",
       "    </tr>\n",
       "  </thead>\n",
       "  <tbody>\n",
       "    <tr>\n",
       "      <th>0</th>\n",
       "      <td>afsana</td>\n",
       "      <td>123</td>\n",
       "    </tr>\n",
       "    <tr>\n",
       "      <th>1</th>\n",
       "      <td>rabeya</td>\n",
       "      <td>234</td>\n",
       "    </tr>\n",
       "    <tr>\n",
       "      <th>2</th>\n",
       "      <td>rukaia</td>\n",
       "      <td>345</td>\n",
       "    </tr>\n",
       "  </tbody>\n",
       "</table>\n",
       "</div>"
      ],
      "text/plain": [
       "     name  address\n",
       "0  afsana      123\n",
       "1  rabeya      234\n",
       "2  rukaia      345"
      ]
     },
     "execution_count": 14,
     "metadata": {},
     "output_type": "execute_result"
    }
   ],
   "source": [
    "df[[\"name\",\"address\"]]\n"
   ]
  },
  {
   "cell_type": "markdown",
   "id": "2d564eb0",
   "metadata": {},
   "source": [
    "##iloc \n",
    "df.iloc[0]"
   ]
  },
  {
   "cell_type": "markdown",
   "id": "603fbdfb",
   "metadata": {},
   "source": []
  },
  {
   "cell_type": "code",
   "execution_count": null,
   "id": "5b9dd976",
   "metadata": {},
   "outputs": [],
   "source": [
    "df.iloc[[0,1]] #### [[]] for multiple rows"
   ]
  },
  {
   "cell_type": "code",
   "execution_count": 17,
   "id": "a7a414be",
   "metadata": {},
   "outputs": [
    {
     "data": {
      "text/plain": [
       "name       afsana\n",
       "email          1@\n",
       "address       123\n",
       "Name: 0, dtype: object"
      ]
     },
     "execution_count": 17,
     "metadata": {},
     "output_type": "execute_result"
    }
   ],
   "source": [
    "df.iloc[0]"
   ]
  },
  {
   "cell_type": "code",
   "execution_count": 18,
   "id": "3990cec8",
   "metadata": {},
   "outputs": [
    {
     "data": {
      "text/plain": [
       "0    1@\n",
       "1    2@\n",
       "Name: email, dtype: object"
      ]
     },
     "execution_count": 18,
     "metadata": {},
     "output_type": "execute_result"
    }
   ],
   "source": [
    "df.iloc[[0,1],1] ####[[row1,row2],col1]"
   ]
  },
  {
   "cell_type": "markdown",
   "id": "2ec68064",
   "metadata": {},
   "source": [
    "### loc -> uses level not column/row name (same as row)"
   ]
  },
  {
   "cell_type": "code",
   "execution_count": 20,
   "id": "108aad6e",
   "metadata": {},
   "outputs": [
    {
     "data": {
      "text/plain": [
       "name       afsana\n",
       "email          1@\n",
       "address       123\n",
       "Name: 0, dtype: object"
      ]
     },
     "execution_count": 20,
     "metadata": {},
     "output_type": "execute_result"
    }
   ],
   "source": [
    "df.loc[0]"
   ]
  },
  {
   "cell_type": "code",
   "execution_count": 21,
   "id": "9b8d5dc6",
   "metadata": {},
   "outputs": [
    {
     "data": {
      "text/html": [
       "<div>\n",
       "<style scoped>\n",
       "    .dataframe tbody tr th:only-of-type {\n",
       "        vertical-align: middle;\n",
       "    }\n",
       "\n",
       "    .dataframe tbody tr th {\n",
       "        vertical-align: top;\n",
       "    }\n",
       "\n",
       "    .dataframe thead th {\n",
       "        text-align: right;\n",
       "    }\n",
       "</style>\n",
       "<table border=\"1\" class=\"dataframe\">\n",
       "  <thead>\n",
       "    <tr style=\"text-align: right;\">\n",
       "      <th></th>\n",
       "      <th>name</th>\n",
       "      <th>email</th>\n",
       "      <th>address</th>\n",
       "    </tr>\n",
       "  </thead>\n",
       "  <tbody>\n",
       "    <tr>\n",
       "      <th>0</th>\n",
       "      <td>afsana</td>\n",
       "      <td>1@</td>\n",
       "      <td>123</td>\n",
       "    </tr>\n",
       "    <tr>\n",
       "      <th>1</th>\n",
       "      <td>rabeya</td>\n",
       "      <td>2@</td>\n",
       "      <td>234</td>\n",
       "    </tr>\n",
       "  </tbody>\n",
       "</table>\n",
       "</div>"
      ],
      "text/plain": [
       "     name email  address\n",
       "0  afsana    1@      123\n",
       "1  rabeya    2@      234"
      ]
     },
     "execution_count": 21,
     "metadata": {},
     "output_type": "execute_result"
    }
   ],
   "source": [
    "df.loc[[0,1]]"
   ]
  },
  {
   "cell_type": "markdown",
   "id": "0173ce4c",
   "metadata": {},
   "source": [
    " "
   ]
  },
  {
   "cell_type": "code",
   "execution_count": 26,
   "id": "734816a6",
   "metadata": {},
   "outputs": [
    {
     "data": {
      "text/plain": [
       "1    2@\n",
       "2    3@\n",
       "Name: email, dtype: object"
      ]
     },
     "execution_count": 26,
     "metadata": {},
     "output_type": "execute_result"
    }
   ],
   "source": [
    " df.loc[[1,2],\"email\"]\n",
    "##to access a column by loc column number wwont work but the column name"
   ]
  },
  {
   "cell_type": "code",
   "execution_count": null,
   "id": "eba585f1",
   "metadata": {},
   "outputs": [],
   "source": []
  }
 ],
 "metadata": {
  "kernelspec": {
   "display_name": "Python 3 (ipykernel)",
   "language": "python",
   "name": "python3"
  },
  "language_info": {
   "codemirror_mode": {
    "name": "ipython",
    "version": 3
   },
   "file_extension": ".py",
   "mimetype": "text/x-python",
   "name": "python",
   "nbconvert_exporter": "python",
   "pygments_lexer": "ipython3",
   "version": "3.9.7"
  }
 },
 "nbformat": 4,
 "nbformat_minor": 5
}
