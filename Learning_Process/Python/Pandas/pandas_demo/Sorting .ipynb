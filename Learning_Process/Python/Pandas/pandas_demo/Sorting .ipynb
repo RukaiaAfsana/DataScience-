{
 "cells": [
  {
   "cell_type": "code",
   "execution_count": null,
   "id": "980d4c65",
   "metadata": {},
   "outputs": [],
   "source": [
    "import pandas as pd\n",
    "friends = {\n",
    "    \"name\":[\"Promi\",\"Maliha\",\"Adal\",\"Fahim\",\"Jessica\",\"Emon\"],\n",
    "    \"email\":[\"tahsinsamiha@gmail.com\",\"aifatasnim@gmail.com\",\"adalislam@gmail.com\",\"fahimafser@gmail.com\",\"fahiarahman@gmail.com\",\"imtiazemon@gmail.com\"],\n",
    "     \"age\":[27,27,27,28,27,25]\n",
    "    \n",
    "}"
   ]
  },
  {
   "cell_type": "code",
   "execution_count": null,
   "id": "16cc0bf3",
   "metadata": {},
   "outputs": [],
   "source": [
    "df = pd.DataFrame(friends)"
   ]
  },
  {
   "cell_type": "code",
   "execution_count": null,
   "id": "92a700bb",
   "metadata": {},
   "outputs": [],
   "source": [
    "df"
   ]
  },
  {
   "cell_type": "code",
   "execution_count": null,
   "id": "78d56f4f",
   "metadata": {},
   "outputs": [],
   "source": [
    "df.sort_values(by=\"age\")"
   ]
  },
  {
   "cell_type": "code",
   "execution_count": null,
   "id": "ab57b22f",
   "metadata": {},
   "outputs": [],
   "source": [
    "df.sort_values(by=\"age\", ascending = False)"
   ]
  },
  {
   "cell_type": "code",
   "execution_count": null,
   "id": "dcd967f6",
   "metadata": {},
   "outputs": [],
   "source": [
    "##sorting multiple columns , each by ascnding or descending"
   ]
  },
  {
   "cell_type": "code",
   "execution_count": null,
   "id": "911f85a6",
   "metadata": {},
   "outputs": [],
   "source": [
    "df.sort_values(by=[\"age\",\"name\"], ascending=[False, True],inplace = True)"
   ]
  },
  {
   "cell_type": "code",
   "execution_count": null,
   "id": "18052d6e",
   "metadata": {},
   "outputs": [],
   "source": [
    "## sory=ting a series"
   ]
  },
  {
   "cell_type": "code",
   "execution_count": null,
   "id": "9243cd90",
   "metadata": {},
   "outputs": [],
   "source": [
    "df.sort_index()\n",
    "df[\"email\"].sort_values()"
   ]
  },
  {
   "cell_type": "code",
   "execution_count": null,
   "id": "c4d0e33c",
   "metadata": {},
   "outputs": [],
   "source": [
    "#CSV"
   ]
  },
  {
   "cell_type": "code",
   "execution_count": null,
   "id": "3b4bcb00",
   "metadata": {},
   "outputs": [],
   "source": [
    "df_csv = pd.read_csv(\"data/survey_results_public.csv\")"
   ]
  },
  {
   "cell_type": "code",
   "execution_count": null,
   "id": "b1ca51f0",
   "metadata": {},
   "outputs": [],
   "source": [
    "df_csv.head(5)"
   ]
  },
  {
   "cell_type": "code",
   "execution_count": null,
   "id": "5b687a27",
   "metadata": {},
   "outputs": [],
   "source": [
    "df_csv.sort_values(by=\"Country\")"
   ]
  },
  {
   "cell_type": "code",
   "execution_count": null,
   "id": "64bb64d9",
   "metadata": {},
   "outputs": [],
   "source": [
    "df_csv.sort_values(by=[\"Country\",\"ConvertedComp\"],ascending=[True,False],inplace = True)"
   ]
  },
  {
   "cell_type": "code",
   "execution_count": null,
   "id": "1ac8d87c",
   "metadata": {},
   "outputs": [],
   "source": [
    "df_csv[[\"Country\",\"ConvertedComp\"]].head(20)"
   ]
  },
  {
   "cell_type": "code",
   "execution_count": null,
   "id": "88a3b641",
   "metadata": {},
   "outputs": [],
   "source": [
    "##nlargest(n)/nsmallest(n)"
   ]
  },
  {
   "cell_type": "code",
   "execution_count": null,
   "id": "6ddc2bcb",
   "metadata": {},
   "outputs": [],
   "source": [
    "df_csv[\"ConvertedComp\"].nlargest(20)"
   ]
  },
  {
   "cell_type": "code",
   "execution_count": null,
   "id": "7219a419",
   "metadata": {},
   "outputs": [],
   "source": [
    "df_csv[\"ConvertedComp\"].nsmallest(20)"
   ]
  },
  {
   "cell_type": "code",
   "execution_count": null,
   "id": "0e138374",
   "metadata": {},
   "outputs": [],
   "source": [
    "##show the dataframe with the nlargest or nsmalllest"
   ]
  },
  {
   "cell_type": "markdown",
   "id": "f8de24ec",
   "metadata": {},
   "source": [
    "df_csv.nlargest(10,\"ConvertedComp\")"
   ]
  },
  {
   "cell_type": "code",
   "execution_count": null,
   "id": "0e32ff7b",
   "metadata": {},
   "outputs": [],
   "source": [
    "df_csv.nlargest(10,\"ConvertedComp\")"
   ]
  },
  {
   "cell_type": "code",
   "execution_count": null,
   "id": "66d735f0",
   "metadata": {},
   "outputs": [],
   "source": []
  }
 ],
 "metadata": {
  "kernelspec": {
   "display_name": "Python 3 (ipykernel)",
   "language": "python",
   "name": "python3"
  },
  "language_info": {
   "codemirror_mode": {
    "name": "ipython",
    "version": 3
   },
   "file_extension": ".py",
   "mimetype": "text/x-python",
   "name": "python",
   "nbconvert_exporter": "python",
   "pygments_lexer": "ipython3",
   "version": "3.9.7"
  }
 },
 "nbformat": 4,
 "nbformat_minor": 5
}
