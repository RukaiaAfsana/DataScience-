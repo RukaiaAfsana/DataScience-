{
 "cells": [
  {
   "cell_type": "code",
   "execution_count": null,
   "id": "bd89b225",
   "metadata": {},
   "outputs": [],
   "source": [
    "import pandas as pd"
   ]
  },
  {
   "cell_type": "code",
   "execution_count": null,
   "id": "367e9718",
   "metadata": {},
   "outputs": [],
   "source": [
    "people = {\n",
    "    \"name\" : [\"rabbi\",\"munna\",\"munia\"],\n",
    "    \"age\" : [27,30,19],\n",
    "    \"address\": [\"uttara\",\"uttara\",\"mohakhali\"]\n",
    "}\n",
    "print(people)"
   ]
  },
  {
   "cell_type": "code",
   "execution_count": null,
   "id": "9d340c10",
   "metadata": {},
   "outputs": [],
   "source": [
    "df_dic =  pd.DataFrame(people)\n",
    "df_dic"
   ]
  },
  {
   "cell_type": "code",
   "execution_count": null,
   "id": "143800f0",
   "metadata": {},
   "outputs": [],
   "source": [
    "## Creating a row as an index insead of using the level"
   ]
  },
  {
   "cell_type": "code",
   "execution_count": null,
   "id": "075f010f",
   "metadata": {},
   "outputs": [],
   "source": [
    "df_dic.set_index('age',)"
   ]
  },
  {
   "cell_type": "code",
   "execution_count": null,
   "id": "b8f765d2",
   "metadata": {},
   "outputs": [],
   "source": [
    "##the actual dataframe still same , it wont change like this\n",
    "#Inplace "
   ]
  },
  {
   "cell_type": "code",
   "execution_count": null,
   "id": "01e3ac4e",
   "metadata": {},
   "outputs": [],
   "source": [
    "df_dic.set_index('age',inplace=True)"
   ]
  },
  {
   "cell_type": "code",
   "execution_count": null,
   "id": "bceb6891",
   "metadata": {},
   "outputs": [],
   "source": [
    "df_dic.loc[27]"
   ]
  },
  {
   "cell_type": "code",
   "execution_count": null,
   "id": "0f435e50",
   "metadata": {},
   "outputs": [],
   "source": [
    "##resetting the index "
   ]
  },
  {
   "cell_type": "code",
   "execution_count": null,
   "id": "4ef6ed68",
   "metadata": {},
   "outputs": [],
   "source": [
    "df_dic.reset_index(inplace = True)"
   ]
  },
  {
   "cell_type": "code",
   "execution_count": null,
   "id": "a1f40786",
   "metadata": {},
   "outputs": [],
   "source": [
    "df_dic"
   ]
  },
  {
   "cell_type": "code",
   "execution_count": null,
   "id": "86aed7c7",
   "metadata": {},
   "outputs": [],
   "source": [
    "#CSV indexing"
   ]
  },
  {
   "cell_type": "code",
   "execution_count": null,
   "id": "72faeea9",
   "metadata": {},
   "outputs": [],
   "source": [
    "df = pd.read_csv('data/survey_results_public.csv', index_col = \"Respondent\")"
   ]
  },
  {
   "cell_type": "code",
   "execution_count": null,
   "id": "f8a92bda",
   "metadata": {},
   "outputs": [],
   "source": [
    "df_schema = pd.read_csv(\"data/survey_results_schema.csv\",index_col = \"Column\")"
   ]
  },
  {
   "cell_type": "code",
   "execution_count": null,
   "id": "c20a1b67",
   "metadata": {},
   "outputs": [],
   "source": [
    "pd.set_option('display.min_rows',20)"
   ]
  },
  {
   "cell_type": "code",
   "execution_count": null,
   "id": "390829ba",
   "metadata": {},
   "outputs": [],
   "source": [
    "df"
   ]
  },
  {
   "cell_type": "code",
   "execution_count": null,
   "id": "42b25d9f",
   "metadata": {},
   "outputs": [],
   "source": [
    "df.loc[2]"
   ]
  },
  {
   "cell_type": "code",
   "execution_count": null,
   "id": "29d843da",
   "metadata": {},
   "outputs": [],
   "source": [
    "df.loc[3]"
   ]
  },
  {
   "cell_type": "code",
   "execution_count": null,
   "id": "e7d5e9be",
   "metadata": {},
   "outputs": [],
   "source": [
    "df_schema"
   ]
  },
  {
   "cell_type": "code",
   "execution_count": null,
   "id": "c123c0aa",
   "metadata": {},
   "outputs": [],
   "source": [
    "df_schema.loc['Hobbyist']"
   ]
  },
  {
   "cell_type": "code",
   "execution_count": null,
   "id": "c2bf00ee",
   "metadata": {},
   "outputs": [],
   "source": [
    "df_schema.loc['Dependents']"
   ]
  },
  {
   "cell_type": "code",
   "execution_count": null,
   "id": "e0e2ee60",
   "metadata": {},
   "outputs": [],
   "source": [
    "df_schema.loc['Dependents','QuestionText']"
   ]
  },
  {
   "cell_type": "code",
   "execution_count": null,
   "id": "99e8873a",
   "metadata": {},
   "outputs": [],
   "source": [
    "##Asecending/descnding\n",
    "\n"
   ]
  },
  {
   "cell_type": "code",
   "execution_count": null,
   "id": "31943ba9",
   "metadata": {},
   "outputs": [],
   "source": [
    "df_schema.sort_index()"
   ]
  },
  {
   "cell_type": "code",
   "execution_count": null,
   "id": "6923765b",
   "metadata": {},
   "outputs": [],
   "source": [
    "df_schema.sort_index(ascending = False)"
   ]
  },
  {
   "cell_type": "code",
   "execution_count": null,
   "id": "90950aec",
   "metadata": {},
   "outputs": [],
   "source": []
  }
 ],
 "metadata": {
  "kernelspec": {
   "display_name": "Python 3 (ipykernel)",
   "language": "python",
   "name": "python3"
  },
  "language_info": {
   "codemirror_mode": {
    "name": "ipython",
    "version": 3
   },
   "file_extension": ".py",
   "mimetype": "text/x-python",
   "name": "python",
   "nbconvert_exporter": "python",
   "pygments_lexer": "ipython3",
   "version": "3.9.7"
  }
 },
 "nbformat": 4,
 "nbformat_minor": 5
}
