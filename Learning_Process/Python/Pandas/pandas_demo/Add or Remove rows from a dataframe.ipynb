{
 "cells": [
  {
   "cell_type": "code",
   "execution_count": null,
   "id": "9260ab38",
   "metadata": {},
   "outputs": [],
   "source": [
    "import pandas as pd"
   ]
  },
  {
   "cell_type": "code",
   "execution_count": null,
   "id": "30cf609e",
   "metadata": {},
   "outputs": [],
   "source": [
    "\n",
    "friends = {\n",
    "    \"name\":[\"Promi\",\"Maliha\",\"Adal\",\"Fahim\",\"Jessica\",\"Emon\"],\n",
    "    \"email\":[\"tahsinsamiha@gmail.com\",\"aifatasnim@gmail.com\",\"adalislam@gmail.com\",\"fahimafser@gmail.com\",\"fahiarahman@gmail.com\",\"imtiazemon@gmail.com\"],\n",
    "     \"age\":[27,27,27,28,27,25]\n",
    "    \n",
    "}\n"
   ]
  },
  {
   "cell_type": "code",
   "execution_count": null,
   "id": "71d803d1",
   "metadata": {},
   "outputs": [],
   "source": [
    "df_friends = pd.DataFrame(friends)"
   ]
  },
  {
   "cell_type": "code",
   "execution_count": null,
   "id": "ff480d22",
   "metadata": {},
   "outputs": [],
   "source": [
    "df_friends"
   ]
  },
  {
   "cell_type": "code",
   "execution_count": null,
   "id": "2794893b",
   "metadata": {},
   "outputs": [],
   "source": [
    "df_friends[\"nickname\"] =[\"samihapori\",\"mallu\",\"adlabadla\",\"fahima\",\"thankujessy\",\"emoinna\"]\n",
    "df_friends[\"nicknames\"] =[\"samihapori\",\"mallu\",\"adlabadla\",\"fahima\",\"thankujessy\",\"emoinna\"]"
   ]
  },
  {
   "cell_type": "code",
   "execution_count": null,
   "id": "ff4aadce",
   "metadata": {},
   "outputs": [],
   "source": [
    "df_friends"
   ]
  },
  {
   "cell_type": "code",
   "execution_count": null,
   "id": "521de3c7",
   "metadata": {},
   "outputs": [],
   "source": [
    "df_friends.drop(columns=[\"age\",\"nicknames\"],inplace= True)"
   ]
  },
  {
   "cell_type": "code",
   "execution_count": null,
   "id": "da4f544c",
   "metadata": {},
   "outputs": [],
   "source": [
    "df_friends"
   ]
  },
  {
   "cell_type": "code",
   "execution_count": null,
   "id": "5efaa60a",
   "metadata": {},
   "outputs": [],
   "source": [
    "df_friends.rename(columns={\"name\":\"first_name\"},inplace=True)"
   ]
  },
  {
   "cell_type": "code",
   "execution_count": null,
   "id": "815f72d0",
   "metadata": {},
   "outputs": [],
   "source": [
    "##adding a column"
   ]
  },
  {
   "cell_type": "code",
   "execution_count": null,
   "id": "acafb7e9",
   "metadata": {},
   "outputs": [],
   "source": [
    "df_friends[\"last_name\"]=[\"tahsin\",\"afia\",\"islam\",\"afser\",\"rahman\",\"imtiaz\"]"
   ]
  },
  {
   "cell_type": "code",
   "execution_count": null,
   "id": "0aafa747",
   "metadata": {},
   "outputs": [],
   "source": [
    "df_friends[\"fullname\"]= df_friends[\"first_name\"]+' '+df_friends[\"last_name\"]"
   ]
  },
  {
   "cell_type": "code",
   "execution_count": null,
   "id": "7c8cef0f",
   "metadata": {},
   "outputs": [],
   "source": [
    "##dropping  column"
   ]
  },
  {
   "cell_type": "code",
   "execution_count": null,
   "id": "00a9a5c4",
   "metadata": {},
   "outputs": [],
   "source": [
    "df_friends.drop(columns=[\"first_name\",\"last_name\"],inplace=True)"
   ]
  },
  {
   "cell_type": "code",
   "execution_count": null,
   "id": "26f642da",
   "metadata": {},
   "outputs": [],
   "source": [
    "# adding two columns by split method"
   ]
  },
  {
   "cell_type": "code",
   "execution_count": null,
   "id": "6d27fd3e",
   "metadata": {},
   "outputs": [],
   "source": [
    "df_friends[\"fullname\"].str.split(\" \")"
   ]
  },
  {
   "cell_type": "code",
   "execution_count": null,
   "id": "cdbe3c1e",
   "metadata": {},
   "outputs": [],
   "source": [
    "df_friends[[\"first_name\",\"last_name\"]] = df_friends[\"fullname\"].str.split(\" \",expand=True)"
   ]
  },
  {
   "cell_type": "code",
   "execution_count": null,
   "id": "cfa1c06c",
   "metadata": {},
   "outputs": [],
   "source": [
    "df_friends"
   ]
  },
  {
   "cell_type": "code",
   "execution_count": null,
   "id": "a94f3b2d",
   "metadata": {},
   "outputs": [],
   "source": [
    "##adding a row with values"
   ]
  },
  {
   "cell_type": "code",
   "execution_count": null,
   "id": "b5c89b5e",
   "metadata": {},
   "outputs": [],
   "source": [
    "df_friends.append({\"email\":\"ifrat@gmail.com\",\"fullname\":\"ifrat islam\",\"nickname\":\"ifratu\"},ignore_index=True)"
   ]
  },
  {
   "cell_type": "code",
   "execution_count": null,
   "id": "cedd094a",
   "metadata": {},
   "outputs": [],
   "source": [
    "df_friends = df_friends.append({\"email\":\"ifrat@gmail.com\",\"fullname\":\"ifrat islam\",\"nickname\":\"ifratu\"},ignore_index=True)\n",
    "df_friends"
   ]
  },
  {
   "cell_type": "code",
   "execution_count": null,
   "id": "905ee158",
   "metadata": {},
   "outputs": [],
   "source": [
    "#combining two data frames by append method"
   ]
  },
  {
   "cell_type": "code",
   "execution_count": null,
   "id": "69f04931",
   "metadata": {},
   "outputs": [],
   "source": [
    "friends2 ={\n",
    "    \"name\":[\"tabassum\",\"ishmama\"],\n",
    "    \"email\":[\"anikatabassum@gmail.com\",\"ishmamislam@gmail.com\"]\n",
    "}"
   ]
  },
  {
   "cell_type": "code",
   "execution_count": null,
   "id": "751e5bd6",
   "metadata": {},
   "outputs": [],
   "source": [
    "df2=pd.DataFrame(friends2)"
   ]
  },
  {
   "cell_type": "code",
   "execution_count": null,
   "id": "10ded155",
   "metadata": {},
   "outputs": [],
   "source": [
    "df_friends.append(df2,ignore_index=True,sort=False)"
   ]
  },
  {
   "cell_type": "code",
   "execution_count": null,
   "id": "037a3625",
   "metadata": {},
   "outputs": [],
   "source": [
    "df_friends= df_friends.append(df2,ignore_index=True,sort=False)"
   ]
  },
  {
   "cell_type": "code",
   "execution_count": null,
   "id": "66eec59b",
   "metadata": {},
   "outputs": [],
   "source": [
    "df_friends"
   ]
  },
  {
   "cell_type": "code",
   "execution_count": null,
   "id": "3a9dbeb6",
   "metadata": {},
   "outputs": [],
   "source": [
    "##dropping a row "
   ]
  },
  {
   "cell_type": "code",
   "execution_count": null,
   "id": "2c2c8142",
   "metadata": {},
   "outputs": [],
   "source": [
    "df_friends.drop(index=8,inplace=True)"
   ]
  },
  {
   "cell_type": "code",
   "execution_count": null,
   "id": "c3592010",
   "metadata": {},
   "outputs": [],
   "source": [
    "##dropping a row using filt "
   ]
  },
  {
   "cell_type": "code",
   "execution_count": null,
   "id": "b693b850",
   "metadata": {},
   "outputs": [],
   "source": [
    "filt = df_friends[\"email\"]==\"ifrat@gmail.com\"\n",
    "df_friends= df_friends.drop(index=df_friends[filt].index)"
   ]
  },
  {
   "cell_type": "code",
   "execution_count": null,
   "id": "483defa0",
   "metadata": {},
   "outputs": [],
   "source": [
    "df_friends"
   ]
  },
  {
   "cell_type": "code",
   "execution_count": null,
   "id": "7e5854b3",
   "metadata": {},
   "outputs": [],
   "source": [
    "                    ###the end "
   ]
  }
 ],
 "metadata": {
  "kernelspec": {
   "display_name": "Python 3 (ipykernel)",
   "language": "python",
   "name": "python3"
  },
  "language_info": {
   "codemirror_mode": {
    "name": "ipython",
    "version": 3
   },
   "file_extension": ".py",
   "mimetype": "text/x-python",
   "name": "python",
   "nbconvert_exporter": "python",
   "pygments_lexer": "ipython3",
   "version": "3.9.7"
  }
 },
 "nbformat": 4,
 "nbformat_minor": 5
}
