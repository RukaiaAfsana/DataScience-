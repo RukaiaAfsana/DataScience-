{
 "cells": [
  {
   "cell_type": "code",
   "execution_count": null,
   "id": "6c6f75ec",
   "metadata": {},
   "outputs": [],
   "source": [
    "import pandas as pd"
   ]
  },
  {
   "cell_type": "code",
   "execution_count": null,
   "id": "58892150",
   "metadata": {
    "scrolled": true
   },
   "outputs": [],
   "source": [
    "df = pd.read_csv(\"data/survey_results_public.csv\")"
   ]
  },
  {
   "cell_type": "code",
   "execution_count": null,
   "id": "b3b0f7a1",
   "metadata": {},
   "outputs": [],
   "source": [
    "df_scheme = pd.read_csv(\"data/survey_results_schema.csv\")"
   ]
  },
  {
   "cell_type": "code",
   "execution_count": null,
   "id": "f24adad0",
   "metadata": {},
   "outputs": [],
   "source": [
    "df"
   ]
  },
  {
   "cell_type": "code",
   "execution_count": null,
   "id": "4e0be60c",
   "metadata": {},
   "outputs": [],
   "source": [
    "pd.set_option('max_rows',85)"
   ]
  },
  {
   "cell_type": "code",
   "execution_count": null,
   "id": "1603e7d4",
   "metadata": {},
   "outputs": [],
   "source": [
    "df_scheme"
   ]
  },
  {
   "cell_type": "code",
   "execution_count": 1,
   "id": "d95db410",
   "metadata": {},
   "outputs": [],
   "source": [
    "## < > = != etc"
   ]
  },
  {
   "cell_type": "code",
   "execution_count": null,
   "id": "c7674696",
   "metadata": {},
   "outputs": [],
   "source": [
    "age_filt = (df['Age'] <30.00 & df['Age'] >20.00 ) "
   ]
  },
  {
   "cell_type": "code",
   "execution_count": null,
   "id": "55e512e0",
   "metadata": {},
   "outputs": [],
   "source": [
    "df.loc[age_filt]"
   ]
  },
  {
   "cell_type": "code",
   "execution_count": 2,
   "id": "8eb80781",
   "metadata": {},
   "outputs": [],
   "source": [
    "## search from a array using .ISIN()"
   ]
  },
  {
   "cell_type": "code",
   "execution_count": null,
   "id": "ecf5c90f",
   "metadata": {},
   "outputs": [],
   "source": [
    "countries = ['India', 'Bangladesh', 'Spain']"
   ]
  },
  {
   "cell_type": "code",
   "execution_count": null,
   "id": "aa1d4e71",
   "metadata": {},
   "outputs": [],
   "source": [
    "country_filt = ( df['Country'].isin(countries) )\n"
   ]
  },
  {
   "cell_type": "code",
   "execution_count": null,
   "id": "8ff2faa7",
   "metadata": {},
   "outputs": [],
   "source": [
    "df.loc[country_filt]"
   ]
  },
  {
   "cell_type": "code",
   "execution_count": 3,
   "id": "b0203aae",
   "metadata": {},
   "outputs": [],
   "source": [
    "##showing multiple coumns along with the filtered values"
   ]
  },
  {
   "cell_type": "code",
   "execution_count": null,
   "id": "c26122d3",
   "metadata": {},
   "outputs": [],
   "source": [
    "df.loc[country_filt ,['DevType','LanguageWorkedWith','Country']]"
   ]
  },
  {
   "cell_type": "code",
   "execution_count": 4,
   "id": "6918a9cf",
   "metadata": {},
   "outputs": [],
   "source": [
    "## finding a specific string from a large string value or multiple row values \n",
    "### like \"html,css,bash,python\"..we need to find the values with python"
   ]
  },
  {
   "cell_type": "code",
   "execution_count": null,
   "id": "a9b8e662",
   "metadata": {},
   "outputs": [],
   "source": [
    "language_filt = df['LanguageWorkedWith'].str.contains('Python', na= False)"
   ]
  },
  {
   "cell_type": "code",
   "execution_count": null,
   "id": "bd02a145",
   "metadata": {},
   "outputs": [],
   "source": [
    "language_filt"
   ]
  },
  {
   "cell_type": "code",
   "execution_count": null,
   "id": "084f1e2f",
   "metadata": {},
   "outputs": [],
   "source": [
    "df.loc[language_filt]"
   ]
  },
  {
   "cell_type": "code",
   "execution_count": null,
   "id": "c1211dcf",
   "metadata": {},
   "outputs": [],
   "source": []
  }
 ],
 "metadata": {
  "kernelspec": {
   "display_name": "Python 3 (ipykernel)",
   "language": "python",
   "name": "python3"
  },
  "language_info": {
   "codemirror_mode": {
    "name": "ipython",
    "version": 3
   },
   "file_extension": ".py",
   "mimetype": "text/x-python",
   "name": "python",
   "nbconvert_exporter": "python",
   "pygments_lexer": "ipython3",
   "version": "3.9.7"
  }
 },
 "nbformat": 4,
 "nbformat_minor": 5
}
