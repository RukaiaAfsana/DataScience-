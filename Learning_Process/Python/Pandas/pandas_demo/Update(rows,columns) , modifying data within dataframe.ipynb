{
 "cells": [
  {
   "cell_type": "code",
   "execution_count": 1,
   "id": "03953ee8",
   "metadata": {},
   "outputs": [],
   "source": [
    "import pandas as pd"
   ]
  },
  {
   "cell_type": "code",
   "execution_count": null,
   "id": "1ec86638",
   "metadata": {},
   "outputs": [],
   "source": [
    "people ={\n",
    "    \"name\" : [\"prattar\",\"pracchad\",\"borobhai\"],\n",
    "    \"address\": [\"uttara\",\"uttara\",\"finland\"]\n",
    "}"
   ]
  },
  {
   "cell_type": "code",
   "execution_count": null,
   "id": "bec820d0",
   "metadata": {},
   "outputs": [],
   "source": [
    "people"
   ]
  },
  {
   "cell_type": "code",
   "execution_count": null,
   "id": "8f4afb78",
   "metadata": {},
   "outputs": [],
   "source": [
    "df_people = pd.DataFrame(people)"
   ]
  },
  {
   "cell_type": "code",
   "execution_count": null,
   "id": "1c0773b7",
   "metadata": {},
   "outputs": [],
   "source": [
    "df_people"
   ]
  },
  {
   "cell_type": "code",
   "execution_count": null,
   "id": "b5749303",
   "metadata": {},
   "outputs": [],
   "source": [
    "###modifying a value from a dataframe"
   ]
  },
  {
   "cell_type": "code",
   "execution_count": null,
   "id": "8a229982",
   "metadata": {},
   "outputs": [],
   "source": [
    "df_people[\"name\"]"
   ]
  },
  {
   "cell_type": "code",
   "execution_count": null,
   "id": "3d5edc6b",
   "metadata": {},
   "outputs": [],
   "source": [
    "df_people[\"name\"]=[\"Prattay\",\"Pracchad_debor\",\"borobhai orfe bashur\"]"
   ]
  },
  {
   "cell_type": "code",
   "execution_count": null,
   "id": "395fc0ae",
   "metadata": {},
   "outputs": [],
   "source": [
    "df_people.loc[2,\"name\"] = \"Pratick fatik\""
   ]
  },
  {
   "cell_type": "code",
   "execution_count": null,
   "id": "af11de16",
   "metadata": {},
   "outputs": [],
   "source": [
    "##renaming column name 2 ways.\n",
    "###i) df.columns=[\"\",\"\"] --need to change all the names ii)df.rename(columns={\"\",\"\"}) --- dont need to change all the columns"
   ]
  },
  {
   "cell_type": "code",
   "execution_count": null,
   "id": "3354c9ba",
   "metadata": {},
   "outputs": [],
   "source": [
    "df_people.columns"
   ]
  },
  {
   "cell_type": "code",
   "execution_count": null,
   "id": "c96918de",
   "metadata": {},
   "outputs": [],
   "source": [
    "df_people.columns = [\"dak_nam\",\"Address\"]\n",
    "df_people"
   ]
  },
  {
   "cell_type": "code",
   "execution_count": null,
   "id": "5e9fbe65",
   "metadata": {},
   "outputs": [],
   "source": [
    "df_people.rename(columns={\"dak_nam\":\"nick_name\",\"Address\":\"bashar_thikana\"},inplace =True)"
   ]
  },
  {
   "cell_type": "code",
   "execution_count": null,
   "id": "2469a8a9",
   "metadata": {},
   "outputs": [],
   "source": [
    "df_people"
   ]
  },
  {
   "cell_type": "code",
   "execution_count": null,
   "id": "0cdc3794",
   "metadata": {},
   "outputs": [],
   "source": [
    "##updating with comprehensive operations"
   ]
  },
  {
   "cell_type": "code",
   "execution_count": null,
   "id": "fbb73b50",
   "metadata": {},
   "outputs": [],
   "source": [
    "df_people.columns = [x.upper() for x in df_people.columns]"
   ]
  },
  {
   "cell_type": "code",
   "execution_count": null,
   "id": "10626931",
   "metadata": {},
   "outputs": [],
   "source": [
    "df_people"
   ]
  },
  {
   "cell_type": "code",
   "execution_count": null,
   "id": "f16e0bab",
   "metadata": {},
   "outputs": [],
   "source": [
    "df_people.columns = [x.lower() for x in df_people.columns]"
   ]
  },
  {
   "cell_type": "code",
   "execution_count": null,
   "id": "568cda08",
   "metadata": {},
   "outputs": [],
   "source": [
    "df_people.columns = df_people.columns.str.replace(\"_\",\"*\")\n",
    "df_people"
   ]
  },
  {
   "cell_type": "code",
   "execution_count": null,
   "id": "41fa9da6",
   "metadata": {},
   "outputs": [],
   "source": [
    "## string replace for column name,using columns as a Series. so , columns.str is a series function"
   ]
  },
  {
   "cell_type": "code",
   "execution_count": null,
   "id": "07ac4dbb",
   "metadata": {},
   "outputs": [],
   "source": [
    "df_people.columns = df_people.columns.str.replace(\"*\",\"_\")"
   ]
  },
  {
   "cell_type": "code",
   "execution_count": null,
   "id": "6928f88b",
   "metadata": {},
   "outputs": [],
   "source": [
    "df_people"
   ]
  },
  {
   "cell_type": "code",
   "execution_count": null,
   "id": "819c7caa",
   "metadata": {},
   "outputs": [],
   "source": [
    "## Row replacing  (for row name indexing works here's the row values )"
   ]
  },
  {
   "cell_type": "code",
   "execution_count": null,
   "id": "c6ae0195",
   "metadata": {},
   "outputs": [],
   "source": [
    "polapain = {\n",
    "    \"firstname\" :[ \"Afsana\",\"Prattay\",\"Aysha\", \"Rubaya\",\"Munia\"],\n",
    "    \"lastname\" :[\"Rukaia\",\"Riasat\",\"kuasha\",\"afroza\",\"nishat\"],\n",
    "    \"email\" :[\"rabeyaafsana@gmail.com\",\"riasatsafin@gmail.com\",\"ayshajahanara@gmail.com\",\"afrozarubaya@gmail.com\",\"nishattanjum@gmail.com\"]\n",
    "}"
   ]
  },
  {
   "cell_type": "code",
   "execution_count": null,
   "id": "4a91607a",
   "metadata": {},
   "outputs": [],
   "source": [
    "df_polapain = pd.DataFrame(polapain)"
   ]
  },
  {
   "cell_type": "code",
   "execution_count": null,
   "id": "0ecb38b9",
   "metadata": {},
   "outputs": [],
   "source": [
    "df_polapain"
   ]
  },
  {
   "cell_type": "code",
   "execution_count": null,
   "id": "7b1ffcb6",
   "metadata": {},
   "outputs": [],
   "source": [
    "df_polapain.loc[3]"
   ]
  },
  {
   "cell_type": "code",
   "execution_count": null,
   "id": "33846282",
   "metadata": {},
   "outputs": [],
   "source": [
    "df_polapain.loc[3,['email','lastname']]"
   ]
  },
  {
   "cell_type": "code",
   "execution_count": null,
   "id": "09e26a4b",
   "metadata": {},
   "outputs": [],
   "source": [
    "df_polapain.loc[3] = [\"hasina\",\"afroza\",\"afrozahasina@gmail.com\"]"
   ]
  },
  {
   "cell_type": "code",
   "execution_count": null,
   "id": "6f52cfc2",
   "metadata": {},
   "outputs": [],
   "source": [
    "df_polapain"
   ]
  },
  {
   "cell_type": "code",
   "execution_count": null,
   "id": "cea5c4c5",
   "metadata": {},
   "outputs": [],
   "source": [
    "##a wrong doing (the error occurs since filtering returns a temporary data it cant change to a temporary value)"
   ]
  },
  {
   "cell_type": "code",
   "execution_count": null,
   "id": "d1d8e411",
   "metadata": {},
   "outputs": [],
   "source": [
    "filt = df_polapain[\"email\"] ==\"nishattanjum@gmail.com\"\n",
    "df_polapain.loc[filt][\"email\"] = \"muniatanjum@gmail.com\"\n"
   ]
  },
  {
   "cell_type": "code",
   "execution_count": null,
   "id": "f9882c6a",
   "metadata": {},
   "outputs": [],
   "source": [
    "filt = df_polapain[\"email\"] == \"nishattanjum@gmail.com\"\n",
    "df_polapain.loc[filt] = df_polapain.loc[filt][\"email\"] =\"muniatanjum@gmail.com\""
   ]
  },
  {
   "cell_type": "code",
   "execution_count": null,
   "id": "4fe35ed1",
   "metadata": {},
   "outputs": [],
   "source": [
    "#right way \n"
   ]
  },
  {
   "cell_type": "code",
   "execution_count": null,
   "id": "b2f7940b",
   "metadata": {},
   "outputs": [],
   "source": [
    "filt = df_polapain[\"email\"] == \"nishattanjum@gmail.com\"\n",
    "df_polapain.loc[filt,\"email\"] = \"muniavunia@gmail.com\""
   ]
  },
  {
   "cell_type": "code",
   "execution_count": null,
   "id": "0a81f756",
   "metadata": {},
   "outputs": [],
   "source": [
    "df_polapain"
   ]
  },
  {
   "cell_type": "code",
   "execution_count": null,
   "id": "fc708ca9",
   "metadata": {},
   "outputs": [],
   "source": [
    "filt = df_polapain[\"email\"] == \"riasatsafin@gmail.com\"\n",
    "df_polapain.loc[filt,[\"email\",\"lastname\"]] =[ \"safinriasat@gmail.com\",\"safin\"]"
   ]
  },
  {
   "cell_type": "code",
   "execution_count": null,
   "id": "23d9a444",
   "metadata": {},
   "outputs": [],
   "source": [
    "df_polapain"
   ]
  },
  {
   "cell_type": "code",
   "execution_count": null,
   "id": "05ca32da",
   "metadata": {},
   "outputs": [],
   "source": [
    "#Apply , Map , Applymap , Replace \n",
    " ###apply is for dataset , series or objects\n",
    "    ###map is for a series and non mapped value retured as a NaN value \n",
    "     ### replace is for series and dont return a NaN value "
   ]
  },
  {
   "cell_type": "code",
   "execution_count": null,
   "id": "7a744933",
   "metadata": {},
   "outputs": [],
   "source": [
    "df_polapain.apply(len)   ###applying on full dataset and shows the vslue number of a dataset"
   ]
  },
  {
   "cell_type": "code",
   "execution_count": null,
   "id": "36b7b05b",
   "metadata": {},
   "outputs": [],
   "source": [
    "# use of apply to search the min value from each columns"
   ]
  },
  {
   "cell_type": "code",
   "execution_count": null,
   "id": "45ffd7db",
   "metadata": {},
   "outputs": [],
   "source": [
    "df_polapain.apply(pd.Series.min)"
   ]
  },
  {
   "cell_type": "code",
   "execution_count": null,
   "id": "748eba8c",
   "metadata": {},
   "outputs": [],
   "source": [
    "df_polapain.apply(lambda x:x.min())"
   ]
  },
  {
   "cell_type": "code",
   "execution_count": null,
   "id": "1631f6ec",
   "metadata": {},
   "outputs": [],
   "source": [
    "df_polapain[\"email\"].apply(len) ###apply on a Series and  find the lenght of the string "
   ]
  },
  {
   "cell_type": "code",
   "execution_count": null,
   "id": "9f2e468b",
   "metadata": {},
   "outputs": [],
   "source": [
    "df_polapain.applymap(len)"
   ]
  },
  {
   "cell_type": "code",
   "execution_count": null,
   "id": "fa52ee02",
   "metadata": {},
   "outputs": [],
   "source": [
    "##To show the min value of each row"
   ]
  },
  {
   "cell_type": "code",
   "execution_count": null,
   "id": "ba94208c",
   "metadata": {},
   "outputs": [],
   "source": [
    "df_polapain.applymap(pd.Series.min) ## wont work as applymap shows the all values "
   ]
  },
  {
   "cell_type": "code",
   "execution_count": null,
   "id": "db12c418",
   "metadata": {},
   "outputs": [],
   "source": [
    "#applying a function through apply method\n"
   ]
  },
  {
   "cell_type": "code",
   "execution_count": null,
   "id": "25301489",
   "metadata": {},
   "outputs": [],
   "source": [
    "def update_email(email):\n",
    "    return email.upper()\n"
   ]
  },
  {
   "cell_type": "code",
   "execution_count": null,
   "id": "48269254",
   "metadata": {},
   "outputs": [],
   "source": [
    "df_polapain[\"email\"]=df_polapain[\"email\"].apply(update_email)"
   ]
  },
  {
   "cell_type": "code",
   "execution_count": null,
   "id": "50014892",
   "metadata": {},
   "outputs": [],
   "source": [
    "df_polapain"
   ]
  },
  {
   "cell_type": "code",
   "execution_count": null,
   "id": "3d3e2294",
   "metadata": {},
   "outputs": [],
   "source": [
    "def FirstnameReplace(name):\n",
    "    return \"Shaikh \"+name\n"
   ]
  },
  {
   "cell_type": "code",
   "execution_count": null,
   "id": "2881c415",
   "metadata": {},
   "outputs": [],
   "source": [
    "df_polapain[\"firstname\"] = df_polapain[\"firstname\"].apply(FirstnameReplace)"
   ]
  },
  {
   "cell_type": "code",
   "execution_count": null,
   "id": "0231481d",
   "metadata": {},
   "outputs": [],
   "source": [
    "df_polapain"
   ]
  },
  {
   "cell_type": "code",
   "execution_count": null,
   "id": "84854bc9",
   "metadata": {},
   "outputs": [],
   "source": [
    "##replace and map "
   ]
  },
  {
   "cell_type": "code",
   "execution_count": null,
   "id": "87e579d4",
   "metadata": {},
   "outputs": [],
   "source": [
    "df_polapain[\"lastname\"].map({\"Rukaia\":\"rukaia\",\"Riasat\":\"riasatt\"})"
   ]
  },
  {
   "cell_type": "code",
   "execution_count": null,
   "id": "22312507",
   "metadata": {},
   "outputs": [],
   "source": [
    "df_polapain ### so we need to implace this "
   ]
  },
  {
   "cell_type": "code",
   "execution_count": null,
   "id": "3807e5d2",
   "metadata": {},
   "outputs": [],
   "source": [
    "df_polapain[\"lastname\"]=df_polapain[\"lastname\"].map({\"Rukaia\":\"rukaia\",\"Riasat\":\"riasatt\"})"
   ]
  },
  {
   "cell_type": "code",
   "execution_count": null,
   "id": "3d5b5029",
   "metadata": {},
   "outputs": [],
   "source": [
    "df_polapain"
   ]
  },
  {
   "cell_type": "code",
   "execution_count": null,
   "id": "e8d68d0e",
   "metadata": {},
   "outputs": [],
   "source": [
    "## replace just dont make the other values into Nan "
   ]
  },
  {
   "cell_type": "code",
   "execution_count": null,
   "id": "e5e8872b",
   "metadata": {},
   "outputs": [],
   "source": [
    "#CSV file "
   ]
  },
  {
   "cell_type": "code",
   "execution_count": 2,
   "id": "6e441ef3",
   "metadata": {},
   "outputs": [],
   "source": [
    "df_schema = pd.read_csv(\"data/survey_results_schema.csv\")"
   ]
  },
  {
   "cell_type": "code",
   "execution_count": 3,
   "id": "d8604ba0",
   "metadata": {},
   "outputs": [],
   "source": [
    "df = pd.read_csv(\"data/survey_results_public.csv\")"
   ]
  },
  {
   "cell_type": "code",
   "execution_count": null,
   "id": "f5e66495",
   "metadata": {},
   "outputs": [],
   "source": [
    "df"
   ]
  },
  {
   "cell_type": "code",
   "execution_count": null,
   "id": "80e7dc31",
   "metadata": {},
   "outputs": [],
   "source": [
    "df[\"Hobbyist\"] = df[\"Hobbyist\"].map({\"Yes\" :True , \"No\" : False })"
   ]
  },
  {
   "cell_type": "code",
   "execution_count": null,
   "id": "163a04f3",
   "metadata": {},
   "outputs": [],
   "source": [
    "df"
   ]
  },
  {
   "cell_type": "code",
   "execution_count": 9,
   "id": "bca55291",
   "metadata": {},
   "outputs": [
    {
     "data": {
      "text/html": [
       "<div>\n",
       "<style scoped>\n",
       "    .dataframe tbody tr th:only-of-type {\n",
       "        vertical-align: middle;\n",
       "    }\n",
       "\n",
       "    .dataframe tbody tr th {\n",
       "        vertical-align: top;\n",
       "    }\n",
       "\n",
       "    .dataframe thead th {\n",
       "        text-align: right;\n",
       "    }\n",
       "</style>\n",
       "<table border=\"1\" class=\"dataframe\">\n",
       "  <thead>\n",
       "    <tr style=\"text-align: right;\">\n",
       "      <th></th>\n",
       "      <th>Column</th>\n",
       "      <th>QuestionText</th>\n",
       "    </tr>\n",
       "  </thead>\n",
       "  <tbody>\n",
       "    <tr>\n",
       "      <th>0</th>\n",
       "      <td>Respondent</td>\n",
       "      <td>Randomized respondent ID number (not in order ...</td>\n",
       "    </tr>\n",
       "    <tr>\n",
       "      <th>1</th>\n",
       "      <td>MainBranch</td>\n",
       "      <td>Which of the following options best describes ...</td>\n",
       "    </tr>\n",
       "    <tr>\n",
       "      <th>2</th>\n",
       "      <td>Hobbyist</td>\n",
       "      <td>Do you code as a hobby?</td>\n",
       "    </tr>\n",
       "    <tr>\n",
       "      <th>3</th>\n",
       "      <td>OpenSourcer</td>\n",
       "      <td>How often do you contribute to open source?</td>\n",
       "    </tr>\n",
       "    <tr>\n",
       "      <th>4</th>\n",
       "      <td>OpenSource</td>\n",
       "      <td>How do you feel about the quality of open sour...</td>\n",
       "    </tr>\n",
       "    <tr>\n",
       "      <th>5</th>\n",
       "      <td>Employment</td>\n",
       "      <td>Which of the following best describes your cur...</td>\n",
       "    </tr>\n",
       "    <tr>\n",
       "      <th>6</th>\n",
       "      <td>Country</td>\n",
       "      <td>In which country do you currently reside?</td>\n",
       "    </tr>\n",
       "    <tr>\n",
       "      <th>7</th>\n",
       "      <td>Student</td>\n",
       "      <td>Are you currently enrolled in a formal, degree...</td>\n",
       "    </tr>\n",
       "    <tr>\n",
       "      <th>8</th>\n",
       "      <td>EdLevel</td>\n",
       "      <td>Which of the following best describes the high...</td>\n",
       "    </tr>\n",
       "    <tr>\n",
       "      <th>9</th>\n",
       "      <td>UndergradMajor</td>\n",
       "      <td>What was your main or most important field of ...</td>\n",
       "    </tr>\n",
       "    <tr>\n",
       "      <th>10</th>\n",
       "      <td>EduOther</td>\n",
       "      <td>Which of the following types of non-degree edu...</td>\n",
       "    </tr>\n",
       "    <tr>\n",
       "      <th>11</th>\n",
       "      <td>OrgSize</td>\n",
       "      <td>Approximately how many people are employed by ...</td>\n",
       "    </tr>\n",
       "    <tr>\n",
       "      <th>12</th>\n",
       "      <td>DevType</td>\n",
       "      <td>Which of the following describe you? Please se...</td>\n",
       "    </tr>\n",
       "    <tr>\n",
       "      <th>13</th>\n",
       "      <td>YearsCode</td>\n",
       "      <td>Including any education, how many years have y...</td>\n",
       "    </tr>\n",
       "    <tr>\n",
       "      <th>14</th>\n",
       "      <td>Age1stCode</td>\n",
       "      <td>At what age did you write your first line of c...</td>\n",
       "    </tr>\n",
       "    <tr>\n",
       "      <th>15</th>\n",
       "      <td>YearsCodePro</td>\n",
       "      <td>How many years have you coded professionally (...</td>\n",
       "    </tr>\n",
       "    <tr>\n",
       "      <th>16</th>\n",
       "      <td>CareerSat</td>\n",
       "      <td>Overall, how satisfied are you with your caree...</td>\n",
       "    </tr>\n",
       "    <tr>\n",
       "      <th>17</th>\n",
       "      <td>JobSat</td>\n",
       "      <td>How satisfied are you with your current job? (...</td>\n",
       "    </tr>\n",
       "    <tr>\n",
       "      <th>18</th>\n",
       "      <td>MgrIdiot</td>\n",
       "      <td>How confident are you that your manager knows ...</td>\n",
       "    </tr>\n",
       "    <tr>\n",
       "      <th>19</th>\n",
       "      <td>MgrMoney</td>\n",
       "      <td>Do you believe that you need to be a manager t...</td>\n",
       "    </tr>\n",
       "    <tr>\n",
       "      <th>20</th>\n",
       "      <td>MgrWant</td>\n",
       "      <td>Do you want to become a manager yourself in th...</td>\n",
       "    </tr>\n",
       "    <tr>\n",
       "      <th>21</th>\n",
       "      <td>JobSeek</td>\n",
       "      <td>Which of the following best describes your cur...</td>\n",
       "    </tr>\n",
       "    <tr>\n",
       "      <th>22</th>\n",
       "      <td>LastHireDate</td>\n",
       "      <td>When was the last time that you took a job wit...</td>\n",
       "    </tr>\n",
       "    <tr>\n",
       "      <th>23</th>\n",
       "      <td>LastInt</td>\n",
       "      <td>In your most recent successful job interview (...</td>\n",
       "    </tr>\n",
       "    <tr>\n",
       "      <th>24</th>\n",
       "      <td>FizzBuzz</td>\n",
       "      <td>Have you ever been asked to solve FizzBuzz in ...</td>\n",
       "    </tr>\n",
       "    <tr>\n",
       "      <th>25</th>\n",
       "      <td>JobFactors</td>\n",
       "      <td>Imagine that you are deciding between two job ...</td>\n",
       "    </tr>\n",
       "    <tr>\n",
       "      <th>26</th>\n",
       "      <td>ResumeUpdate</td>\n",
       "      <td>Think back to the last time you updated your r...</td>\n",
       "    </tr>\n",
       "    <tr>\n",
       "      <th>27</th>\n",
       "      <td>CurrencySymbol</td>\n",
       "      <td>Which currency do you use day-to-day? If your ...</td>\n",
       "    </tr>\n",
       "    <tr>\n",
       "      <th>28</th>\n",
       "      <td>CurrencyDesc</td>\n",
       "      <td>Which currency do you use day-to-day? If your ...</td>\n",
       "    </tr>\n",
       "    <tr>\n",
       "      <th>29</th>\n",
       "      <td>CompTotal</td>\n",
       "      <td>What is your current total compensation (salar...</td>\n",
       "    </tr>\n",
       "    <tr>\n",
       "      <th>...</th>\n",
       "      <td>...</td>\n",
       "      <td>...</td>\n",
       "    </tr>\n",
       "    <tr>\n",
       "      <th>55</th>\n",
       "      <td>Containers</td>\n",
       "      <td>How do you use containers (Docker, Open Contai...</td>\n",
       "    </tr>\n",
       "    <tr>\n",
       "      <th>56</th>\n",
       "      <td>BlockchainOrg</td>\n",
       "      <td>How is your organization thinking about or imp...</td>\n",
       "    </tr>\n",
       "    <tr>\n",
       "      <th>57</th>\n",
       "      <td>BlockchainIs</td>\n",
       "      <td>Blockchain / cryptocurrency technology is prim...</td>\n",
       "    </tr>\n",
       "    <tr>\n",
       "      <th>58</th>\n",
       "      <td>BetterLife</td>\n",
       "      <td>Do you think people born today will have a bet...</td>\n",
       "    </tr>\n",
       "    <tr>\n",
       "      <th>59</th>\n",
       "      <td>ITperson</td>\n",
       "      <td>Are you the \"IT support person\" for your family?</td>\n",
       "    </tr>\n",
       "    <tr>\n",
       "      <th>60</th>\n",
       "      <td>OffOn</td>\n",
       "      <td>Have you tried turning it off and on again?</td>\n",
       "    </tr>\n",
       "    <tr>\n",
       "      <th>61</th>\n",
       "      <td>SocialMedia</td>\n",
       "      <td>What social media site do you use the most?</td>\n",
       "    </tr>\n",
       "    <tr>\n",
       "      <th>62</th>\n",
       "      <td>Extraversion</td>\n",
       "      <td>Do you prefer online chat or IRL conversations?</td>\n",
       "    </tr>\n",
       "    <tr>\n",
       "      <th>63</th>\n",
       "      <td>ScreenName</td>\n",
       "      <td>What do you call it?</td>\n",
       "    </tr>\n",
       "    <tr>\n",
       "      <th>64</th>\n",
       "      <td>SOVisit1st</td>\n",
       "      <td>To the best of your memory, when did you first...</td>\n",
       "    </tr>\n",
       "    <tr>\n",
       "      <th>65</th>\n",
       "      <td>SOVisitFreq</td>\n",
       "      <td>How frequently would you say you visit Stack O...</td>\n",
       "    </tr>\n",
       "    <tr>\n",
       "      <th>66</th>\n",
       "      <td>SOVisitTo</td>\n",
       "      <td>I visit Stack Overflow to... (check all that a...</td>\n",
       "    </tr>\n",
       "    <tr>\n",
       "      <th>67</th>\n",
       "      <td>SOFindAnswer</td>\n",
       "      <td>On average, how many times a week do you find ...</td>\n",
       "    </tr>\n",
       "    <tr>\n",
       "      <th>68</th>\n",
       "      <td>SOTimeSaved</td>\n",
       "      <td>Think back to the last time you solved a codin...</td>\n",
       "    </tr>\n",
       "    <tr>\n",
       "      <th>69</th>\n",
       "      <td>SOHowMuchTime</td>\n",
       "      <td>About how much time did you save? If you're no...</td>\n",
       "    </tr>\n",
       "    <tr>\n",
       "      <th>70</th>\n",
       "      <td>SOAccount</td>\n",
       "      <td>Do you have a Stack Overflow account?</td>\n",
       "    </tr>\n",
       "    <tr>\n",
       "      <th>71</th>\n",
       "      <td>SOPartFreq</td>\n",
       "      <td>How frequently would you say you participate i...</td>\n",
       "    </tr>\n",
       "    <tr>\n",
       "      <th>72</th>\n",
       "      <td>SOJobs</td>\n",
       "      <td>Have you ever used or visited Stack Overflow J...</td>\n",
       "    </tr>\n",
       "    <tr>\n",
       "      <th>73</th>\n",
       "      <td>EntTeams</td>\n",
       "      <td>Have you ever used Stack Overflow for Enterpri...</td>\n",
       "    </tr>\n",
       "    <tr>\n",
       "      <th>74</th>\n",
       "      <td>SOComm</td>\n",
       "      <td>Do you consider yourself a member of the Stack...</td>\n",
       "    </tr>\n",
       "    <tr>\n",
       "      <th>75</th>\n",
       "      <td>WelcomeChange</td>\n",
       "      <td>Compared to last year, how welcome do you feel...</td>\n",
       "    </tr>\n",
       "    <tr>\n",
       "      <th>76</th>\n",
       "      <td>SONewContent</td>\n",
       "      <td>Would you like to see any of the following on ...</td>\n",
       "    </tr>\n",
       "    <tr>\n",
       "      <th>77</th>\n",
       "      <td>Age</td>\n",
       "      <td>What is your age (in years)? If you prefer not...</td>\n",
       "    </tr>\n",
       "    <tr>\n",
       "      <th>78</th>\n",
       "      <td>Gender</td>\n",
       "      <td>Which of the following do you currently identi...</td>\n",
       "    </tr>\n",
       "    <tr>\n",
       "      <th>79</th>\n",
       "      <td>Trans</td>\n",
       "      <td>Do you identify as transgender?</td>\n",
       "    </tr>\n",
       "    <tr>\n",
       "      <th>80</th>\n",
       "      <td>Sexuality</td>\n",
       "      <td>Which of the following do you currently identi...</td>\n",
       "    </tr>\n",
       "    <tr>\n",
       "      <th>81</th>\n",
       "      <td>Ethnicity</td>\n",
       "      <td>Which of the following do you identify as? Ple...</td>\n",
       "    </tr>\n",
       "    <tr>\n",
       "      <th>82</th>\n",
       "      <td>Dependents</td>\n",
       "      <td>Do you have any dependents (e.g., children, el...</td>\n",
       "    </tr>\n",
       "    <tr>\n",
       "      <th>83</th>\n",
       "      <td>SurveyLength</td>\n",
       "      <td>How do you feel about the length of the survey...</td>\n",
       "    </tr>\n",
       "    <tr>\n",
       "      <th>84</th>\n",
       "      <td>SurveyEase</td>\n",
       "      <td>How easy or difficult was this survey to compl...</td>\n",
       "    </tr>\n",
       "  </tbody>\n",
       "</table>\n",
       "<p>85 rows × 2 columns</p>\n",
       "</div>"
      ],
      "text/plain": [
       "            Column                                       QuestionText\n",
       "0       Respondent  Randomized respondent ID number (not in order ...\n",
       "1       MainBranch  Which of the following options best describes ...\n",
       "2         Hobbyist                            Do you code as a hobby?\n",
       "3      OpenSourcer        How often do you contribute to open source?\n",
       "4       OpenSource  How do you feel about the quality of open sour...\n",
       "5       Employment  Which of the following best describes your cur...\n",
       "6          Country          In which country do you currently reside?\n",
       "7          Student  Are you currently enrolled in a formal, degree...\n",
       "8          EdLevel  Which of the following best describes the high...\n",
       "9   UndergradMajor  What was your main or most important field of ...\n",
       "10        EduOther  Which of the following types of non-degree edu...\n",
       "11         OrgSize  Approximately how many people are employed by ...\n",
       "12         DevType  Which of the following describe you? Please se...\n",
       "13       YearsCode  Including any education, how many years have y...\n",
       "14      Age1stCode  At what age did you write your first line of c...\n",
       "15    YearsCodePro  How many years have you coded professionally (...\n",
       "16       CareerSat  Overall, how satisfied are you with your caree...\n",
       "17          JobSat  How satisfied are you with your current job? (...\n",
       "18        MgrIdiot  How confident are you that your manager knows ...\n",
       "19        MgrMoney  Do you believe that you need to be a manager t...\n",
       "20         MgrWant  Do you want to become a manager yourself in th...\n",
       "21         JobSeek  Which of the following best describes your cur...\n",
       "22    LastHireDate  When was the last time that you took a job wit...\n",
       "23         LastInt  In your most recent successful job interview (...\n",
       "24        FizzBuzz  Have you ever been asked to solve FizzBuzz in ...\n",
       "25      JobFactors  Imagine that you are deciding between two job ...\n",
       "26    ResumeUpdate  Think back to the last time you updated your r...\n",
       "27  CurrencySymbol  Which currency do you use day-to-day? If your ...\n",
       "28    CurrencyDesc  Which currency do you use day-to-day? If your ...\n",
       "29       CompTotal  What is your current total compensation (salar...\n",
       "..             ...                                                ...\n",
       "55      Containers  How do you use containers (Docker, Open Contai...\n",
       "56   BlockchainOrg  How is your organization thinking about or imp...\n",
       "57    BlockchainIs  Blockchain / cryptocurrency technology is prim...\n",
       "58      BetterLife  Do you think people born today will have a bet...\n",
       "59        ITperson   Are you the \"IT support person\" for your family?\n",
       "60           OffOn        Have you tried turning it off and on again?\n",
       "61     SocialMedia        What social media site do you use the most?\n",
       "62    Extraversion    Do you prefer online chat or IRL conversations?\n",
       "63      ScreenName                               What do you call it?\n",
       "64      SOVisit1st  To the best of your memory, when did you first...\n",
       "65     SOVisitFreq  How frequently would you say you visit Stack O...\n",
       "66       SOVisitTo  I visit Stack Overflow to... (check all that a...\n",
       "67    SOFindAnswer  On average, how many times a week do you find ...\n",
       "68     SOTimeSaved  Think back to the last time you solved a codin...\n",
       "69   SOHowMuchTime  About how much time did you save? If you're no...\n",
       "70       SOAccount              Do you have a Stack Overflow account?\n",
       "71      SOPartFreq  How frequently would you say you participate i...\n",
       "72          SOJobs  Have you ever used or visited Stack Overflow J...\n",
       "73        EntTeams  Have you ever used Stack Overflow for Enterpri...\n",
       "74          SOComm  Do you consider yourself a member of the Stack...\n",
       "75   WelcomeChange  Compared to last year, how welcome do you feel...\n",
       "76    SONewContent  Would you like to see any of the following on ...\n",
       "77             Age  What is your age (in years)? If you prefer not...\n",
       "78          Gender  Which of the following do you currently identi...\n",
       "79           Trans                    Do you identify as transgender?\n",
       "80       Sexuality  Which of the following do you currently identi...\n",
       "81       Ethnicity  Which of the following do you identify as? Ple...\n",
       "82      Dependents  Do you have any dependents (e.g., children, el...\n",
       "83    SurveyLength  How do you feel about the length of the survey...\n",
       "84      SurveyEase  How easy or difficult was this survey to compl...\n",
       "\n",
       "[85 rows x 2 columns]"
      ]
     },
     "execution_count": 9,
     "metadata": {},
     "output_type": "execute_result"
    }
   ],
   "source": [
    "pd.set_option('display.min_rows',85)\n",
    "df_schema"
   ]
  },
  {
   "cell_type": "code",
   "execution_count": 8,
   "id": "b0570071",
   "metadata": {
    "scrolled": false
   },
   "outputs": [],
   "source": [
    "##replacing a column name \n",
    "df.rename(columns= {\"YearsCode\" : \"YrsOfCode\"},inplace = True )"
   ]
  },
  {
   "cell_type": "code",
   "execution_count": 5,
   "id": "3046f017",
   "metadata": {},
   "outputs": [
    {
     "data": {
      "text/html": [
       "<div>\n",
       "<style scoped>\n",
       "    .dataframe tbody tr th:only-of-type {\n",
       "        vertical-align: middle;\n",
       "    }\n",
       "\n",
       "    .dataframe tbody tr th {\n",
       "        vertical-align: top;\n",
       "    }\n",
       "\n",
       "    .dataframe thead th {\n",
       "        text-align: right;\n",
       "    }\n",
       "</style>\n",
       "<table border=\"1\" class=\"dataframe\">\n",
       "  <thead>\n",
       "    <tr style=\"text-align: right;\">\n",
       "      <th></th>\n",
       "      <th>Column</th>\n",
       "      <th>QuestionText</th>\n",
       "    </tr>\n",
       "  </thead>\n",
       "  <tbody>\n",
       "    <tr>\n",
       "      <th>0</th>\n",
       "      <td>Respondent</td>\n",
       "      <td>Randomized respondent ID number (not in order ...</td>\n",
       "    </tr>\n",
       "    <tr>\n",
       "      <th>1</th>\n",
       "      <td>MainBranch</td>\n",
       "      <td>Which of the following options best describes ...</td>\n",
       "    </tr>\n",
       "    <tr>\n",
       "      <th>2</th>\n",
       "      <td>Hobbyist</td>\n",
       "      <td>Do you code as a hobby?</td>\n",
       "    </tr>\n",
       "    <tr>\n",
       "      <th>3</th>\n",
       "      <td>OpenSourcer</td>\n",
       "      <td>How often do you contribute to open source?</td>\n",
       "    </tr>\n",
       "    <tr>\n",
       "      <th>4</th>\n",
       "      <td>OpenSource</td>\n",
       "      <td>How do you feel about the quality of open sour...</td>\n",
       "    </tr>\n",
       "    <tr>\n",
       "      <th>...</th>\n",
       "      <td>...</td>\n",
       "      <td>...</td>\n",
       "    </tr>\n",
       "    <tr>\n",
       "      <th>80</th>\n",
       "      <td>Sexuality</td>\n",
       "      <td>Which of the following do you currently identi...</td>\n",
       "    </tr>\n",
       "    <tr>\n",
       "      <th>81</th>\n",
       "      <td>Ethnicity</td>\n",
       "      <td>Which of the following do you identify as? Ple...</td>\n",
       "    </tr>\n",
       "    <tr>\n",
       "      <th>82</th>\n",
       "      <td>Dependents</td>\n",
       "      <td>Do you have any dependents (e.g., children, el...</td>\n",
       "    </tr>\n",
       "    <tr>\n",
       "      <th>83</th>\n",
       "      <td>SurveyLength</td>\n",
       "      <td>How do you feel about the length of the survey...</td>\n",
       "    </tr>\n",
       "    <tr>\n",
       "      <th>84</th>\n",
       "      <td>SurveyEase</td>\n",
       "      <td>How easy or difficult was this survey to compl...</td>\n",
       "    </tr>\n",
       "  </tbody>\n",
       "</table>\n",
       "<p>85 rows × 2 columns</p>\n",
       "</div>"
      ],
      "text/plain": [
       "          Column                                       QuestionText\n",
       "0     Respondent  Randomized respondent ID number (not in order ...\n",
       "1     MainBranch  Which of the following options best describes ...\n",
       "2       Hobbyist                            Do you code as a hobby?\n",
       "3    OpenSourcer        How often do you contribute to open source?\n",
       "4     OpenSource  How do you feel about the quality of open sour...\n",
       "..           ...                                                ...\n",
       "80     Sexuality  Which of the following do you currently identi...\n",
       "81     Ethnicity  Which of the following do you identify as? Ple...\n",
       "82    Dependents  Do you have any dependents (e.g., children, el...\n",
       "83  SurveyLength  How do you feel about the length of the survey...\n",
       "84    SurveyEase  How easy or difficult was this survey to compl...\n",
       "\n",
       "[85 rows x 2 columns]"
      ]
     },
     "execution_count": 5,
     "metadata": {},
     "output_type": "execute_result"
    }
   ],
   "source": [
    "df_schema\n"
   ]
  },
  {
   "cell_type": "code",
   "execution_count": null,
   "id": "cab008ea",
   "metadata": {},
   "outputs": [],
   "source": []
  }
 ],
 "metadata": {
  "kernelspec": {
   "display_name": "Python 3 (ipykernel)",
   "language": "python",
   "name": "python3"
  },
  "language_info": {
   "codemirror_mode": {
    "name": "ipython",
    "version": 3
   },
   "file_extension": ".py",
   "mimetype": "text/x-python",
   "name": "python",
   "nbconvert_exporter": "python",
   "pygments_lexer": "ipython3",
   "version": "3.9.7"
  }
 },
 "nbformat": 4,
 "nbformat_minor": 5
}
